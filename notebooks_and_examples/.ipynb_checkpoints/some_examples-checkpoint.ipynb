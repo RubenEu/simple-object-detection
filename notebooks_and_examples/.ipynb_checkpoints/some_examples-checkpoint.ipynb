{
 "cells": [
  {
   "cell_type": "code",
   "execution_count": 9,
   "metadata": {},
   "outputs": [],
   "source": [
    "import os\n",
    "\n",
    "# Cambiar el directorio para cargar la librería y datos correctamente.\n",
    "os.chdir('../')"
   ]
  },
  {
   "cell_type": "markdown",
   "metadata": {
    "id": "C7OTk90_cpO4"
   },
   "source": [
    "# Configurar notebook y dependencias"
   ]
  },
  {
   "cell_type": "code",
   "execution_count": 10,
   "metadata": {
    "id": "fVq6wDdicvQP"
   },
   "outputs": [],
   "source": [
    "import cv2\n",
    "import numpy as np\n",
    "import tensorflow as tf\n",
    "import tensorflow_hub as hub\n",
    "from simple_object_detection.detection_model import DetectionModel"
   ]
  },
  {
   "cell_type": "code",
   "execution_count": 11,
   "metadata": {
    "id": "XCAgqdBFcrbY"
   },
   "outputs": [],
   "source": [
    "%matplotlib inline\n",
    "import matplotlib\n",
    "import matplotlib.pyplot as plt\n",
    "matplotlib.rcParams['figure.figsize'] = (30, 12)"
   ]
  },
  {
   "cell_type": "markdown",
   "metadata": {
    "id": "6GTYhTMoFSOw"
   },
   "source": [
    "Evitar los mensajes de tensorflow-hub."
   ]
  },
  {
   "cell_type": "code",
   "execution_count": 12,
   "metadata": {
    "id": "suGpl_PBXiAM"
   },
   "outputs": [],
   "source": [
    "import logging\n",
    "\n",
    "# No funciona...\n",
    "tf.get_logger().setLevel('ERROR')\n",
    "logging.getLogger('tensorflow_hub').setLevel('ERROR')\n",
    "logging.getLogger('simple_object_detection').setLevel('ERROR')"
   ]
  },
  {
   "cell_type": "markdown",
   "metadata": {
    "id": "UWJlUjTCbBGK"
   },
   "source": [
    "## Configurar datos de ejemplo"
   ]
  },
  {
   "cell_type": "markdown",
   "metadata": {
    "id": "zZDX5vI38yDI"
   },
   "source": [
    "Configurar la ruta de los modelos"
   ]
  },
  {
   "cell_type": "code",
   "execution_count": 13,
   "metadata": {
    "id": "s34zDrCk8z5H"
   },
   "outputs": [],
   "source": [
    "DetectionModel.models_path = 'models_data/'"
   ]
  },
  {
   "cell_type": "markdown",
   "metadata": {
    "id": "M5grKyQmK5L4"
   },
   "source": [
    "Configurar la ruta de los datos de ejemplo y una imagen de ejemplo"
   ]
  },
  {
   "cell_type": "code",
   "execution_count": 14,
   "metadata": {
    "id": "QrhKVvAAcGLF"
   },
   "outputs": [],
   "source": [
    "file_path = 'sample_data/'"
   ]
  },
  {
   "cell_type": "code",
   "execution_count": 16,
   "metadata": {
    "id": "Vbc5FKTvE8Zb"
   },
   "outputs": [
    {
     "ename": "error",
     "evalue": "OpenCV(4.0.1) C:\\ci\\opencv-suite_1573470242804\\work\\modules\\imgproc\\src\\color.cpp:181: error: (-215:Assertion failed) !_src.empty() in function 'cv::cvtColor'\n",
     "output_type": "error",
     "traceback": [
      "\u001b[1;31m---------------------------------------------------------------------------\u001b[0m",
      "\u001b[1;31merror\u001b[0m                                     Traceback (most recent call last)",
      "\u001b[1;32m<ipython-input-16-1e07f0bad124>\u001b[0m in \u001b[0;36m<module>\u001b[1;34m\u001b[0m\n\u001b[0;32m      1\u001b[0m \u001b[1;32mfrom\u001b[0m \u001b[0msimple_object_detection\u001b[0m\u001b[1;33m.\u001b[0m\u001b[0mutils\u001b[0m \u001b[1;32mimport\u001b[0m \u001b[0mload_image\u001b[0m\u001b[1;33m\u001b[0m\u001b[1;33m\u001b[0m\u001b[0m\n\u001b[0;32m      2\u001b[0m \u001b[1;33m\u001b[0m\u001b[0m\n\u001b[1;32m----> 3\u001b[1;33m \u001b[0mimage\u001b[0m \u001b[1;33m=\u001b[0m \u001b[0mload_image\u001b[0m\u001b[1;33m(\u001b[0m\u001b[0mfile_path\u001b[0m \u001b[1;33m+\u001b[0m \u001b[1;34m'yunquera-4.jpg'\u001b[0m\u001b[1;33m)\u001b[0m\u001b[1;33m\u001b[0m\u001b[1;33m\u001b[0m\u001b[0m\n\u001b[0m",
      "\u001b[1;32m~\\Documents\\Projects\\simple-object-detection\\simple_object_detection\\utils.py\u001b[0m in \u001b[0;36mload_image\u001b[1;34m(file_path)\u001b[0m\n\u001b[0;32m     53\u001b[0m     \"\"\"\n\u001b[0;32m     54\u001b[0m     \u001b[0mimg\u001b[0m \u001b[1;33m=\u001b[0m \u001b[0mcv2\u001b[0m\u001b[1;33m.\u001b[0m\u001b[0mimread\u001b[0m\u001b[1;33m(\u001b[0m\u001b[0mfile_path\u001b[0m\u001b[1;33m)\u001b[0m\u001b[1;33m\u001b[0m\u001b[1;33m\u001b[0m\u001b[0m\n\u001b[1;32m---> 55\u001b[1;33m     \u001b[0mimg\u001b[0m \u001b[1;33m=\u001b[0m \u001b[0mcv2\u001b[0m\u001b[1;33m.\u001b[0m\u001b[0mcvtColor\u001b[0m\u001b[1;33m(\u001b[0m\u001b[0mimg\u001b[0m\u001b[1;33m,\u001b[0m \u001b[0mcv2\u001b[0m\u001b[1;33m.\u001b[0m\u001b[0mCOLOR_BGR2RGB\u001b[0m\u001b[1;33m)\u001b[0m\u001b[1;33m\u001b[0m\u001b[1;33m\u001b[0m\u001b[0m\n\u001b[0m\u001b[0;32m     56\u001b[0m     \u001b[1;32mreturn\u001b[0m \u001b[0mimg\u001b[0m\u001b[1;33m\u001b[0m\u001b[1;33m\u001b[0m\u001b[0m\n",
      "\u001b[1;31merror\u001b[0m: OpenCV(4.0.1) C:\\ci\\opencv-suite_1573470242804\\work\\modules\\imgproc\\src\\color.cpp:181: error: (-215:Assertion failed) !_src.empty() in function 'cv::cvtColor'\n"
     ]
    }
   ],
   "source": [
    "from simple_object_detection.utils import load_image\n",
    "\n",
    "image = load_image(file_path + 'yunquera-4.jpg')"
   ]
  },
  {
   "cell_type": "markdown",
   "metadata": {
    "id": "o9dmGd9JcZ3Q"
   },
   "source": [
    "# Ejecuciones con distintas redes"
   ]
  },
  {
   "cell_type": "code",
   "execution_count": null,
   "metadata": {
    "id": "nuiRx3HNub5K"
   },
   "outputs": [],
   "source": [
    "from simple_object_detection.utils import set_bounding_boxes_in_image, filter_objects\n",
    "\n",
    "def show_detections_in_image(network, image, title):\n",
    "  # Extraer objetos\n",
    "  objects = network.get_objects(image)\n",
    "  objects_filtered = filter_objects(objects,\n",
    "                                    # classes=['motorcycle', 'motorbike', 'wheel', 'car', 'truck', ],\n",
    "                                    min_score=0.3)\n",
    "  # Extraer el frame vacío, con todos los objetos y con los objetos filtrados.\n",
    "  image_with_boxes = set_bounding_boxes_in_image(image, objects)\n",
    "  image_with_boxes_filtered = set_bounding_boxes_in_image(image, objects_filtered)\n",
    "  # Añadir los centroides a la imagen con los objetos filtrados\n",
    "  for obj in objects_filtered:\n",
    "    cv2.circle(image_with_boxes_filtered, obj.get_centroid(), 2, (255, 0, 0), 3)\n",
    "  # Imprimir las imágenes.\n",
    "  fig, axes = plt.subplots(1, 2)\n",
    "  fig.suptitle(title, size=25)\n",
    "  axes[0].imshow(image_with_boxes)\n",
    "  axes[0].set_title('Image with all detections')\n",
    "  axes[1].imshow(image_with_boxes_filtered)\n",
    "  axes[1].set_title('Image with filtered detections and centroids')\n",
    "\n",
    "  return image, image_with_boxes, image_with_boxes_filtered, objects, objects_filtered"
   ]
  },
  {
   "cell_type": "markdown",
   "metadata": {
    "id": "dkOPXuPqvTR7"
   },
   "source": [
    "## Modelo: YOLOv3"
   ]
  },
  {
   "cell_type": "code",
   "execution_count": null,
   "metadata": {
    "colab": {
     "base_uri": "https://localhost:8080/",
     "height": 648
    },
    "id": "sw0UAJRivXMa",
    "outputId": "499cdc58-2584-48de-da88-c792c4f4d393"
   },
   "outputs": [],
   "source": [
    "from simple_object_detection.models import YOLOv3\n",
    "\n",
    "network = YOLOv3(size=(608, 608), offline_mode=True)\n",
    "image, image_with_boxes, image_with_boxes_filtered, objects, objects_filtered = show_detections_in_image(network, image, 'YOLOv3')"
   ]
  },
  {
   "cell_type": "markdown",
   "metadata": {
    "id": "I_2jabO-eDlb"
   },
   "source": [
    "Añadir los centroides"
   ]
  },
  {
   "cell_type": "markdown",
   "metadata": {
    "id": "YInw9nESWj-M"
   },
   "source": [
    "## Modelo: SSD+MobileNetV2"
   ]
  },
  {
   "cell_type": "code",
   "execution_count": null,
   "metadata": {
    "colab": {
     "base_uri": "https://localhost:8080/",
     "height": 648
    },
    "id": "qyS5yIOud7Nb",
    "outputId": "d4fb581a-4776-4309-d9f0-666c32c0a9d2"
   },
   "outputs": [],
   "source": [
    "from simple_object_detection.models import SSDMobileNetV2\n",
    "\n",
    "network = SSDMobileNetV2(offline_mode=True)\n",
    "image, image_with_boxes, image_with_boxes_filtered, objects, objects_filtered = show_detections_in_image(network, image, 'SSDMobileNetV2')"
   ]
  },
  {
   "cell_type": "markdown",
   "metadata": {
    "id": "J-pZOVOG9dyo"
   },
   "source": [
    "## Modelo: CenterNet HourGlass104 512x512"
   ]
  },
  {
   "cell_type": "code",
   "execution_count": null,
   "metadata": {
    "colab": {
     "base_uri": "https://localhost:8080/",
     "height": 1000
    },
    "id": "FH6xzE_49gIn",
    "outputId": "a6b7f25a-c7de-4ccd-cb32-1fefbd8c95a2"
   },
   "outputs": [],
   "source": [
    "from simple_object_detection.models import CenterNetHourGlass104512x512\n",
    "\n",
    "network = CenterNetHourGlass104512x512(offline_mode=False)\n",
    "image, image_with_boxes, image_with_boxes_filtered, objects, objects_filtered = show_detections_in_image(network, image, 'CenterNetHourGlass104512x512')"
   ]
  },
  {
   "cell_type": "markdown",
   "metadata": {
    "id": "aOEB1d49bl9y"
   },
   "source": [
    "## Modelo: CenterNet HourGlass104 1024x1024"
   ]
  },
  {
   "cell_type": "code",
   "execution_count": null,
   "metadata": {
    "colab": {
     "base_uri": "https://localhost:8080/",
     "height": 1000
    },
    "id": "XI8B9ZMZefAT",
    "outputId": "e414fe4b-a48f-4310-f123-e4e2da7d32b1"
   },
   "outputs": [],
   "source": [
    "from simple_object_detection.models import CenterNetHourGlass1041024x1024\n",
    "\n",
    "network = CenterNetHourGlass1041024x1024(offline_mode=True)\n",
    "image, image_with_boxes, image_with_boxes_filtered, objects, objects_filtered = show_detections_in_image(network, image, 'CenterNetHourGlass1041024x1024')"
   ]
  },
  {
   "cell_type": "markdown",
   "metadata": {
    "id": "yywjf99TuSwa"
   },
   "source": [
    "## Modelo: FasterRCNN+InceptionResNetV2"
   ]
  },
  {
   "cell_type": "code",
   "execution_count": null,
   "metadata": {
    "colab": {
     "base_uri": "https://localhost:8080/",
     "height": 648
    },
    "id": "MoUdgbkTcmnr",
    "outputId": "f6105643-5454-483f-c742-6b4b161cdd02"
   },
   "outputs": [],
   "source": [
    "from simple_object_detection.models import FasterRCNNInceptionResnetV2\n",
    "\n",
    "network = FasterRCNNInceptionResnetV2(offline_mode=True)\n",
    "image, image_with_boxes, image_with_boxes_filtered, objects, objects_filtered = show_detections_in_image(network, image, 'FasterRCNNInceptionResnetV2')"
   ]
  }
 ],
 "metadata": {
  "accelerator": "GPU",
  "colab": {
   "collapsed_sections": [],
   "name": "L4 - Object detection library.ipynb",
   "provenance": [],
   "toc_visible": true
  },
  "kernelspec": {
   "display_name": "Python 3",
   "language": "python",
   "name": "python3"
  },
  "language_info": {
   "codemirror_mode": {
    "name": "ipython",
    "version": 3
   },
   "file_extension": ".py",
   "mimetype": "text/x-python",
   "name": "python",
   "nbconvert_exporter": "python",
   "pygments_lexer": "ipython3",
   "version": "3.8.5"
  }
 },
 "nbformat": 4,
 "nbformat_minor": 1
}
